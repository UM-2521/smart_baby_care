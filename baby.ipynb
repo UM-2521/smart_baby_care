{
 "cells": [
  {
   "cell_type": "code",
   "execution_count": 1,
   "metadata": {
    "scrolled": true
   },
   "outputs": [
    {
     "ename": "ValueError",
     "evalue": "could not convert string to float: '\\x00\\x00201'",
     "traceback": [
      "\u001b[0;31m---------------------------------------------------------------------------\u001b[0m",
      "\u001b[0;31mValueError\u001b[0m                                Traceback (most recent call last)",
      "\u001b[0;32m<ipython-input-1-2e39b239a6f7>\u001b[0m in \u001b[0;36m<module>\u001b[0;34m()\u001b[0m\n\u001b[1;32m     48\u001b[0m             \u001b[0mdata\u001b[0m \u001b[0;34m=\u001b[0m \u001b[0mline\u001b[0m\u001b[0;34m.\u001b[0m\u001b[0msplit\u001b[0m\u001b[0;34m(\u001b[0m\u001b[0;34m\":\"\u001b[0m\u001b[0;34m)\u001b[0m\u001b[0;34m\u001b[0m\u001b[0m\n\u001b[1;32m     49\u001b[0m             \u001b[0;32mif\u001b[0m \u001b[0;34m(\u001b[0m\u001b[0mlen\u001b[0m\u001b[0;34m(\u001b[0m\u001b[0mdata\u001b[0m\u001b[0;34m)\u001b[0m \u001b[0;34m==\u001b[0m \u001b[0;36m2\u001b[0m\u001b[0;34m)\u001b[0m\u001b[0;34m:\u001b[0m\u001b[0;34m\u001b[0m\u001b[0m\n\u001b[0;32m---> 50\u001b[0;31m                 \u001b[0mpulse\u001b[0m \u001b[0;34m=\u001b[0m \u001b[0mfloat\u001b[0m\u001b[0;34m(\u001b[0m\u001b[0mdata\u001b[0m\u001b[0;34m[\u001b[0m\u001b[0;36m0\u001b[0m\u001b[0;34m]\u001b[0m\u001b[0;34m)\u001b[0m\u001b[0;34m\u001b[0m\u001b[0m\n\u001b[0m\u001b[1;32m     51\u001b[0m                 \u001b[0msound\u001b[0m \u001b[0;34m=\u001b[0m \u001b[0mfloat\u001b[0m\u001b[0;34m(\u001b[0m\u001b[0mdata\u001b[0m\u001b[0;34m[\u001b[0m\u001b[0;36m1\u001b[0m\u001b[0;34m]\u001b[0m\u001b[0;34m)\u001b[0m\u001b[0;34m\u001b[0m\u001b[0m\n\u001b[1;32m     52\u001b[0m                 \u001b[0mprint\u001b[0m\u001b[0;34m(\u001b[0m\u001b[0;34m\"Input pulse {} , sound {}\"\u001b[0m\u001b[0;34m.\u001b[0m\u001b[0mformat\u001b[0m\u001b[0;34m(\u001b[0m\u001b[0mpulse\u001b[0m\u001b[0;34m,\u001b[0m \u001b[0msound\u001b[0m\u001b[0;34m)\u001b[0m\u001b[0;34m)\u001b[0m\u001b[0;34m\u001b[0m\u001b[0m\n",
      "\u001b[0;31mValueError\u001b[0m: could not convert string to float: '\\x00\\x00201'"
     ],
     "output_type": "error"
    }
   ],
   "source": [
    "#!/usr/bin/env python\n",
    "import sys\n",
    "import os\n",
    "import requests\n",
    "import firebase_admin\n",
    "from firebase_admin import credentials\n",
    "from firebase_admin import storage\n",
    "from firebase_admin import db\n",
    "import serial\n",
    "from picamera import PiCamera\n",
    "from time import sleep\n",
    "from pyfcm import FCMNotification\n",
    "from firebase import firebase\n",
    "import json\n",
    "\n",
    "\n",
    "camera = PiCamera()\n",
    "cred = credentials.Certificate('/home/pi/notebooks/firebase.json')\n",
    "firebase_admin.initialize_app(cred, {'storageBucket': 'um170915.appspot.com'})\n",
    "DETECTION_BOUNDARY = 45.0\n",
    "DETECTION_LEVEL = 10 #(10/2) seconds\n",
    "FIREBASE_URL = 'https://um170915.firebaseio.com/'\n",
    "FIREBASE_API_KEY = \"AAAACP7yGag:APA91bH9kExkuFoEs57P-s3NTfqkopCZVUdFKHwDutl7QV-VyqOvSv_LJQBwJiwnO0QN9Rey2-YfOXm5rUaHGfUumki5e99cBsNMjldIpD2tzZAtkHNfg7jQa3ttfYEnT2d5PCivef7Y\"\n",
    "fire = firebase.FirebaseApplication(FIREBASE_URL, None)\n",
    "\n",
    "\n",
    "\n",
    "def sendMessage(pulse, sound):\n",
    "    push_service = FCMNotification(api_key = FIREBASE_API_KEY)\n",
    "    userTokens = fire.get('/Tokens', None)\n",
    "    registration_ids = []\n",
    "    for key, value in userTokens.items():\n",
    "        registration_ids.append(key)\n",
    "    return push_service.notify_multiple_devices(registration_ids=registration_ids, \n",
    "                                                message_title = \"Baby Danger\", message_body= \"status\")\n",
    "def sendData(pulse):\n",
    "    s = str(pulse)\n",
    "    result = fire.post(\"/users\", {'Heart': s})\n",
    "    \n",
    "if __name__ == \"__main__\":\n",
    "    ser = serial.Serial('/dev/ttyUSB0', 9600)\n",
    "    ser.flushInput()\n",
    "    first = True\n",
    "    while True:\n",
    "        try:\n",
    "            lineBytes = ser.readline()\n",
    "            line = lineBytes.decode('utf-8')\n",
    "            data = line.split(\":\")\n",
    "            if (len(data) == 2):\n",
    "                pulse = int(data[0])\n",
    "                sound = int(data[1])       \n",
    "                print(\"Input pulse {} , sound {}\".format(pulse, sound))\n",
    "                sendData(pulse)\n",
    "                if((sound > 200 or pulse > 140 or pulse < 80) and first):\n",
    "                    camera.start_preview()\n",
    "                    camera.capture('/home/pi/image.png')\n",
    "                    camera.stop_preview()                \n",
    "                    bucket = storage.bucket()\n",
    "                    blob = bucket.blob(os.path.basename('/home/pi/image.png'))\n",
    "                    blob.upload_from_filename('/home/pi/image.png')\n",
    "                    sendMessage(pulse, sound)\n",
    "                    first = False\n",
    "        except KeyboardInterrupt:\n",
    "            break\n",
    "\n",
    "    print(\"Server terminated\")"
   ]
  },
  {
   "cell_type": "code",
   "execution_count": null,
   "metadata": {
    "collapsed": true
   },
   "outputs": [],
   "source": []
  },
  {
   "cell_type": "code",
   "execution_count": null,
   "metadata": {
    "collapsed": true
   },
   "outputs": [],
   "source": []
  }
 ],
 "metadata": {
  "kernelspec": {
   "display_name": "Python 3",
   "language": "python",
   "name": "python3"
  }
 },
 "nbformat": 4,
 "nbformat_minor": 2
}
